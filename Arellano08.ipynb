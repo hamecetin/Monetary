{
 "cells": [
  {
   "cell_type": "code",
   "execution_count": 1,
   "metadata": {},
   "outputs": [],
   "source": [
    "import matplotlib.pyplot as plt\n",
    "import numpy as np\n",
    "import quantecon as qe\n",
    "import random\n",
    "\n",
    "from numba import njit, int64, float64, prange\n",
    "from numba.experimental import jitclass\n",
    "%matplotlib inline"
   ]
  },
  {
   "cell_type": "markdown",
   "metadata": {},
   "source": [
    "#### Goal\n",
    "\n",
    "In this program, we are going to replicate Arellano (08) model economy and simulate the process.\n",
    "\n",
    "#### Model\n",
    "\n",
    "- Risk averse identical agents/citizens in a country, (assume there is a representitative agent)\n",
    "- One benevolent government (maximizes representitative agent's expected utility), who has the sole access to foreign assets. \n",
    "- Foreign creditors are risk neutral and have deep pocket (i.e. can buy or sell as much asset as they want). Their time discounting is \n",
    "- One risk free (exogenously risk free) foreign asset. (**Exogenously incomplete market**)\n",
    "- The government can default on its debt at the beginning of the period after seeing its endowment shock (**Endogenously incomplete market**)"
   ]
  }
 ],
 "metadata": {
  "kernelspec": {
   "display_name": "Python 3.8.8 ('base')",
   "language": "python",
   "name": "python3"
  },
  "language_info": {
   "codemirror_mode": {
    "name": "ipython",
    "version": 3
   },
   "file_extension": ".py",
   "mimetype": "text/x-python",
   "name": "python",
   "nbconvert_exporter": "python",
   "pygments_lexer": "ipython3",
   "version": "3.8.8"
  },
  "orig_nbformat": 4,
  "vscode": {
   "interpreter": {
    "hash": "4cb68feeda358cd999e6c5ea40a6d1740fd7be6f357c97f27cdc2dc32d902bae"
   }
  }
 },
 "nbformat": 4,
 "nbformat_minor": 2
}
